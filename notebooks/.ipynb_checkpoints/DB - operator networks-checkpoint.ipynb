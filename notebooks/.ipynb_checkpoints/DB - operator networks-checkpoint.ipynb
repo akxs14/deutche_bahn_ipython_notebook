{
 "cells": [
  {
   "cell_type": "code",
   "execution_count": 1,
   "metadata": {
    "collapsed": false
   },
   "outputs": [],
   "source": [
    "# Import all necessary libraries\n",
    "import pandas     as pd   # The data processing library\n",
    "import matplotlib as plot # The visualization library\n",
    "import json               # Library for encoding and decoding JSON data"
   ]
  },
  {
   "cell_type": "code",
   "execution_count": 2,
   "metadata": {
    "collapsed": false
   },
   "outputs": [
    {
     "data": {
      "text/html": [
       "<div>\n",
       "<table border=\"1\" class=\"dataframe\">\n",
       "  <thead>\n",
       "    <tr style=\"text-align: right;\">\n",
       "      <th></th>\n",
       "      <th>features</th>\n",
       "      <th>type</th>\n",
       "    </tr>\n",
       "  </thead>\n",
       "  <tbody>\n",
       "    <tr>\n",
       "      <th>0</th>\n",
       "      <td>{u'geometry': {u'type': u'LineString', u'coord...</td>\n",
       "      <td>FeatureCollection</td>\n",
       "    </tr>\n",
       "    <tr>\n",
       "      <th>1</th>\n",
       "      <td>{u'geometry': {u'type': u'LineString', u'coord...</td>\n",
       "      <td>FeatureCollection</td>\n",
       "    </tr>\n",
       "    <tr>\n",
       "      <th>2</th>\n",
       "      <td>{u'geometry': {u'type': u'LineString', u'coord...</td>\n",
       "      <td>FeatureCollection</td>\n",
       "    </tr>\n",
       "    <tr>\n",
       "      <th>3</th>\n",
       "      <td>{u'geometry': {u'type': u'LineString', u'coord...</td>\n",
       "      <td>FeatureCollection</td>\n",
       "    </tr>\n",
       "    <tr>\n",
       "      <th>4</th>\n",
       "      <td>{u'geometry': {u'type': u'LineString', u'coord...</td>\n",
       "      <td>FeatureCollection</td>\n",
       "    </tr>\n",
       "  </tbody>\n",
       "</table>\n",
       "</div>"
      ],
      "text/plain": [
       "                                            features               type\n",
       "0  {u'geometry': {u'type': u'LineString', u'coord...  FeatureCollection\n",
       "1  {u'geometry': {u'type': u'LineString', u'coord...  FeatureCollection\n",
       "2  {u'geometry': {u'type': u'LineString', u'coord...  FeatureCollection\n",
       "3  {u'geometry': {u'type': u'LineString', u'coord...  FeatureCollection\n",
       "4  {u'geometry': {u'type': u'LineString', u'coord...  FeatureCollection"
      ]
     },
     "execution_count": 2,
     "metadata": {},
     "output_type": "execute_result"
    }
   ],
   "source": [
    "# Load GeoJSON directly in a data frame\n",
    "bad_geo_df = pd.read_json(\"../datasets/connectivity_2015_09.geojson\")\n",
    "bad_geo_df.head()"
   ]
  },
  {
   "cell_type": "code",
   "execution_count": 3,
   "metadata": {
    "collapsed": false,
    "scrolled": true
   },
   "outputs": [
    {
     "data": {
      "text/html": [
       "<div>\n",
       "<table border=\"1\" class=\"dataframe\">\n",
       "  <thead>\n",
       "    <tr style=\"text-align: right;\">\n",
       "      <th></th>\n",
       "      <th>geometry.coordinates</th>\n",
       "      <th>geometry.type</th>\n",
       "      <th>properties.all,no4g_measurements</th>\n",
       "      <th>properties.all,no4g_stability</th>\n",
       "      <th>properties.all_measurements</th>\n",
       "      <th>properties.all_stability</th>\n",
       "      <th>properties.e-plus,no4g_measurements</th>\n",
       "      <th>properties.e-plus,no4g_stability</th>\n",
       "      <th>properties.e-plus_measurements</th>\n",
       "      <th>properties.e-plus_stability</th>\n",
       "      <th>...</th>\n",
       "      <th>properties.o2_stability</th>\n",
       "      <th>properties.t-mobile,no4g_measurements</th>\n",
       "      <th>properties.t-mobile,no4g_stability</th>\n",
       "      <th>properties.t-mobile_measurements</th>\n",
       "      <th>properties.t-mobile_stability</th>\n",
       "      <th>properties.vodafone,no4g_measurements</th>\n",
       "      <th>properties.vodafone,no4g_stability</th>\n",
       "      <th>properties.vodafone_measurements</th>\n",
       "      <th>properties.vodafone_stability</th>\n",
       "      <th>type</th>\n",
       "    </tr>\n",
       "  </thead>\n",
       "  <tbody>\n",
       "    <tr>\n",
       "      <th>0</th>\n",
       "      <td>[[11.06535, 49.44201], [11.07071, 49.4427], [1...</td>\n",
       "      <td>LineString</td>\n",
       "      <td>567</td>\n",
       "      <td>0.974</td>\n",
       "      <td>1157</td>\n",
       "      <td>0.961</td>\n",
       "      <td>94</td>\n",
       "      <td>0.981</td>\n",
       "      <td>112</td>\n",
       "      <td>0.981</td>\n",
       "      <td>...</td>\n",
       "      <td>0.979</td>\n",
       "      <td>188</td>\n",
       "      <td>0.971</td>\n",
       "      <td>437</td>\n",
       "      <td>0.929</td>\n",
       "      <td>205</td>\n",
       "      <td>0.980</td>\n",
       "      <td>364</td>\n",
       "      <td>0.981</td>\n",
       "      <td>Feature</td>\n",
       "    </tr>\n",
       "    <tr>\n",
       "      <th>1</th>\n",
       "      <td>[[11.0718650022, 49.4429816674], [11.07228, 49...</td>\n",
       "      <td>LineString</td>\n",
       "      <td>1154</td>\n",
       "      <td>0.973</td>\n",
       "      <td>2161</td>\n",
       "      <td>0.954</td>\n",
       "      <td>150</td>\n",
       "      <td>0.974</td>\n",
       "      <td>185</td>\n",
       "      <td>0.974</td>\n",
       "      <td>...</td>\n",
       "      <td>0.968</td>\n",
       "      <td>418</td>\n",
       "      <td>0.976</td>\n",
       "      <td>896</td>\n",
       "      <td>0.924</td>\n",
       "      <td>448</td>\n",
       "      <td>0.979</td>\n",
       "      <td>751</td>\n",
       "      <td>0.977</td>\n",
       "      <td>Feature</td>\n",
       "    </tr>\n",
       "    <tr>\n",
       "      <th>2</th>\n",
       "      <td>[[11.0779766624, 49.4447023689], [11.07897, 49...</td>\n",
       "      <td>LineString</td>\n",
       "      <td>1569</td>\n",
       "      <td>0.973</td>\n",
       "      <td>2818</td>\n",
       "      <td>0.947</td>\n",
       "      <td>160</td>\n",
       "      <td>0.968</td>\n",
       "      <td>208</td>\n",
       "      <td>0.967</td>\n",
       "      <td>...</td>\n",
       "      <td>0.959</td>\n",
       "      <td>618</td>\n",
       "      <td>0.980</td>\n",
       "      <td>1274</td>\n",
       "      <td>0.918</td>\n",
       "      <td>621</td>\n",
       "      <td>0.978</td>\n",
       "      <td>991</td>\n",
       "      <td>0.975</td>\n",
       "      <td>Feature</td>\n",
       "    </tr>\n",
       "    <tr>\n",
       "      <th>3</th>\n",
       "      <td>[[11.0844614667, 49.4457747006], [11.0882, 49....</td>\n",
       "      <td>LineString</td>\n",
       "      <td>1289</td>\n",
       "      <td>0.972</td>\n",
       "      <td>2370</td>\n",
       "      <td>0.934</td>\n",
       "      <td>112</td>\n",
       "      <td>0.960</td>\n",
       "      <td>155</td>\n",
       "      <td>0.959</td>\n",
       "      <td>...</td>\n",
       "      <td>0.957</td>\n",
       "      <td>497</td>\n",
       "      <td>0.981</td>\n",
       "      <td>1131</td>\n",
       "      <td>0.895</td>\n",
       "      <td>534</td>\n",
       "      <td>0.977</td>\n",
       "      <td>814</td>\n",
       "      <td>0.975</td>\n",
       "      <td>Feature</td>\n",
       "    </tr>\n",
       "    <tr>\n",
       "      <th>4</th>\n",
       "      <td>[[11.0908624199, 49.4470433591], [11.09168, 49...</td>\n",
       "      <td>LineString</td>\n",
       "      <td>594</td>\n",
       "      <td>0.974</td>\n",
       "      <td>1282</td>\n",
       "      <td>0.888</td>\n",
       "      <td>48</td>\n",
       "      <td>0.961</td>\n",
       "      <td>71</td>\n",
       "      <td>0.964</td>\n",
       "      <td>...</td>\n",
       "      <td>0.964</td>\n",
       "      <td>213</td>\n",
       "      <td>0.980</td>\n",
       "      <td>697</td>\n",
       "      <td>0.817</td>\n",
       "      <td>248</td>\n",
       "      <td>0.980</td>\n",
       "      <td>371</td>\n",
       "      <td>0.978</td>\n",
       "      <td>Feature</td>\n",
       "    </tr>\n",
       "  </tbody>\n",
       "</table>\n",
       "<p>5 rows × 23 columns</p>\n",
       "</div>"
      ],
      "text/plain": [
       "                                geometry.coordinates geometry.type  \\\n",
       "0  [[11.06535, 49.44201], [11.07071, 49.4427], [1...    LineString   \n",
       "1  [[11.0718650022, 49.4429816674], [11.07228, 49...    LineString   \n",
       "2  [[11.0779766624, 49.4447023689], [11.07897, 49...    LineString   \n",
       "3  [[11.0844614667, 49.4457747006], [11.0882, 49....    LineString   \n",
       "4  [[11.0908624199, 49.4470433591], [11.09168, 49...    LineString   \n",
       "\n",
       "   properties.all,no4g_measurements  properties.all,no4g_stability  \\\n",
       "0                               567                          0.974   \n",
       "1                              1154                          0.973   \n",
       "2                              1569                          0.973   \n",
       "3                              1289                          0.972   \n",
       "4                               594                          0.974   \n",
       "\n",
       "   properties.all_measurements  properties.all_stability  \\\n",
       "0                         1157                     0.961   \n",
       "1                         2161                     0.954   \n",
       "2                         2818                     0.947   \n",
       "3                         2370                     0.934   \n",
       "4                         1282                     0.888   \n",
       "\n",
       "   properties.e-plus,no4g_measurements  properties.e-plus,no4g_stability  \\\n",
       "0                                   94                             0.981   \n",
       "1                                  150                             0.974   \n",
       "2                                  160                             0.968   \n",
       "3                                  112                             0.960   \n",
       "4                                   48                             0.961   \n",
       "\n",
       "   properties.e-plus_measurements  properties.e-plus_stability   ...     \\\n",
       "0                             112                        0.981   ...      \n",
       "1                             185                        0.974   ...      \n",
       "2                             208                        0.967   ...      \n",
       "3                             155                        0.959   ...      \n",
       "4                              71                        0.964   ...      \n",
       "\n",
       "   properties.o2_stability  properties.t-mobile,no4g_measurements  \\\n",
       "0                    0.979                                    188   \n",
       "1                    0.968                                    418   \n",
       "2                    0.959                                    618   \n",
       "3                    0.957                                    497   \n",
       "4                    0.964                                    213   \n",
       "\n",
       "   properties.t-mobile,no4g_stability  properties.t-mobile_measurements  \\\n",
       "0                               0.971                               437   \n",
       "1                               0.976                               896   \n",
       "2                               0.980                              1274   \n",
       "3                               0.981                              1131   \n",
       "4                               0.980                               697   \n",
       "\n",
       "   properties.t-mobile_stability  properties.vodafone,no4g_measurements  \\\n",
       "0                          0.929                                    205   \n",
       "1                          0.924                                    448   \n",
       "2                          0.918                                    621   \n",
       "3                          0.895                                    534   \n",
       "4                          0.817                                    248   \n",
       "\n",
       "   properties.vodafone,no4g_stability  properties.vodafone_measurements  \\\n",
       "0                               0.980                               364   \n",
       "1                               0.979                               751   \n",
       "2                               0.978                               991   \n",
       "3                               0.977                               814   \n",
       "4                               0.980                               371   \n",
       "\n",
       "   properties.vodafone_stability     type  \n",
       "0                          0.981  Feature  \n",
       "1                          0.977  Feature  \n",
       "2                          0.975  Feature  \n",
       "3                          0.975  Feature  \n",
       "4                          0.978  Feature  \n",
       "\n",
       "[5 rows x 23 columns]"
      ]
     },
     "execution_count": 3,
     "metadata": {},
     "output_type": "execute_result"
    }
   ],
   "source": [
    "# Load JSON and normalize nested JSON\n",
    "with open(\"../datasets/connectivity_2015_09.geojson\") as f:\n",
    "    geo_data = json.load(f)\n",
    "\n",
    "tmp_df = pd.DataFrame(geo_data)\n",
    "geo_df = pd.io.json.json_normalize(tmp_df['features'])\n",
    "geo_df.head()"
   ]
  },
  {
   "cell_type": "code",
   "execution_count": 4,
   "metadata": {
    "collapsed": false
   },
   "outputs": [
    {
     "data": {
      "text/plain": [
       "['geometry.coordinates',\n",
       " 'geometry.type',\n",
       " 'properties.all,no4g_measurements',\n",
       " 'properties.all,no4g_stability',\n",
       " 'properties.all_measurements',\n",
       " 'properties.all_stability',\n",
       " 'properties.e-plus,no4g_measurements',\n",
       " 'properties.e-plus,no4g_stability',\n",
       " 'properties.e-plus_measurements',\n",
       " 'properties.e-plus_stability',\n",
       " 'properties.o2,no4g_measurements',\n",
       " 'properties.o2,no4g_stability',\n",
       " 'properties.o2_measurements',\n",
       " 'properties.o2_stability',\n",
       " 'properties.t-mobile,no4g_measurements',\n",
       " 'properties.t-mobile,no4g_stability',\n",
       " 'properties.t-mobile_measurements',\n",
       " 'properties.t-mobile_stability',\n",
       " 'properties.vodafone,no4g_measurements',\n",
       " 'properties.vodafone,no4g_stability',\n",
       " 'properties.vodafone_measurements',\n",
       " 'properties.vodafone_stability',\n",
       " u'type']"
      ]
     },
     "execution_count": 4,
     "metadata": {},
     "output_type": "execute_result"
    }
   ],
   "source": [
    "# List the column headers\n",
    "list(geo_df.columns.values)"
   ]
  },
  {
   "cell_type": "code",
   "execution_count": 10,
   "metadata": {
    "collapsed": false
   },
   "outputs": [
    {
     "name": "stdout",
     "output_type": "stream",
     "text": [
      "[[11.06535, 49.44201], [11.07071, 49.4427], [11.07126, 49.4428], [11.07177, 49.44295], [11.071865002158022, 49.44298166738601]] \n",
      "\n",
      "[[11.071865002158022, 49.44298166738601], [11.07228, 49.44312], [11.07278, 49.44331], [11.07325, 49.44349], [11.07425, 49.44383], [11.0747, 49.444], [11.07569, 49.44429], [11.0762, 49.44441], [11.07675, 49.4445], [11.07731, 49.44461], [11.077976662356802, 49.44470236888076]] \n",
      "\n",
      "[[11.077976662356802, 49.44470236888076], [11.07897, 49.44484], [11.08006, 49.44496], [11.08115, 49.44511], [11.08223, 49.4453], [11.084461466732163, 49.44577470062812]] \n",
      "\n"
     ]
    }
   ],
   "source": [
    "# Let's examine the coordinate\n",
    "print geo_df['geometry.coordinates'][0], \"\\n\"\n",
    "print geo_df['geometry.coordinates'][1], \"\\n\"\n",
    "print geo_df['geometry.coordinates'][2], \"\\n\""
   ]
  },
  {
   "cell_type": "code",
   "execution_count": 27,
   "metadata": {
    "collapsed": false
   },
   "outputs": [
    {
     "ename": "TypeError",
     "evalue": "set_color() got an unexpected keyword argument 'color'",
     "output_type": "error",
     "traceback": [
      "\u001b[1;31m---------------------------------------------------------------------------\u001b[0m",
      "\u001b[1;31mTypeError\u001b[0m                                 Traceback (most recent call last)",
      "\u001b[1;32m<ipython-input-27-983acaa5f4fd>\u001b[0m in \u001b[0;36m<module>\u001b[1;34m()\u001b[0m\n\u001b[0;32m     11\u001b[0m \u001b[1;33m\u001b[0m\u001b[0m\n\u001b[0;32m     12\u001b[0m \u001b[0mcoll\u001b[0m \u001b[1;33m=\u001b[0m \u001b[0mPolyCollection\u001b[0m\u001b[1;33m(\u001b[0m\u001b[0mgeo_df\u001b[0m\u001b[1;33m[\u001b[0m\u001b[1;34m'geometry.coordinates'\u001b[0m\u001b[1;33m]\u001b[0m\u001b[1;33m,\u001b[0m \u001b[0mcmap\u001b[0m\u001b[1;33m=\u001b[0m\u001b[0mmpl\u001b[0m\u001b[1;33m.\u001b[0m\u001b[0mcm\u001b[0m\u001b[1;33m.\u001b[0m\u001b[0mjet\u001b[0m\u001b[1;33m,\u001b[0m \u001b[0medgecolors\u001b[0m\u001b[1;33m=\u001b[0m\u001b[1;34m'none'\u001b[0m\u001b[1;33m,\u001b[0m \u001b[0mzorder\u001b[0m\u001b[1;33m=\u001b[0m\u001b[1;36m2\u001b[0m\u001b[1;33m)\u001b[0m\u001b[1;33m\u001b[0m\u001b[0m\n\u001b[1;32m---> 13\u001b[1;33m \u001b[0mcoll\u001b[0m\u001b[1;33m.\u001b[0m\u001b[0mset_color\u001b[0m\u001b[1;33m(\u001b[0m\u001b[0mcolor\u001b[0m\u001b[1;33m=\u001b[0m\u001b[1;34m'blue'\u001b[0m\u001b[1;33m)\u001b[0m\u001b[1;33m\u001b[0m\u001b[0m\n\u001b[0m\u001b[0;32m     14\u001b[0m \u001b[1;33m\u001b[0m\u001b[0m\n\u001b[0;32m     15\u001b[0m \u001b[0max\u001b[0m\u001b[1;33m.\u001b[0m\u001b[0madd_collection\u001b[0m\u001b[1;33m(\u001b[0m\u001b[0mcoll\u001b[0m\u001b[1;33m)\u001b[0m\u001b[1;33m\u001b[0m\u001b[0m\n",
      "\u001b[1;31mTypeError\u001b[0m: set_color() got an unexpected keyword argument 'color'"
     ]
    },
    {
     "data": {
      "image/png": "[encoded data removed]",
      "text/plain": [
       "<matplotlib.figure.Figure at 0x7fd5c6e20a50>"
      ]
     },
     "metadata": {},
     "output_type": "display_data"
    }
   ],
   "source": [
    "# We can import a module wherever we want\n",
    "import matplotlib as mpl\n",
    "import matplotlib.pyplot as plt\n",
    "from matplotlib.patches import Polygon\n",
    "from matplotlib.collections import PolyCollection\n",
    "import numpy as np\n",
    "%matplotlib inline\n",
    "\n",
    "# Initialize a collection of Polygons\n",
    "fig, ax = plt.subplots()\n",
    "\n",
    "coll = PolyCollection(geo_df['geometry.coordinates'], \n",
    "                      cmap=mpl.cm.jet,\n",
    "                      edgecolors='none',\n",
    "                      zorder=2,\n",
    "                      color='blue')\n",
    "\n",
    "ax.add_collection(coll)\n",
    "ax.autoscale_view()\n",
    "plt.show()"
   ]
  },
  {
   "cell_type": "code",
   "execution_count": null,
   "metadata": {
    "collapsed": true
   },
   "outputs": [],
   "source": []
  }
 ],
 "metadata": {
  "kernelspec": {
   "display_name": "Python 2",
   "language": "python",
   "name": "python2"
  },
  "language_info": {
   "codemirror_mode": {
    "name": "ipython",
    "version": 2
   },
   "file_extension": ".py",
   "mimetype": "text/x-python",
   "name": "python",
   "nbconvert_exporter": "python",
   "pygments_lexer": "ipython2",
   "version": "2.7.6"
  }
 },
 "nbformat": 4,
 "nbformat_minor": 0
}
